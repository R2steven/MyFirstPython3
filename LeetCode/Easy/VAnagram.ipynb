{
 "cells": [
  {
   "cell_type": "code",
   "execution_count": 23,
   "metadata": {},
   "outputs": [],
   "source": [
    "#242. Valid Anagram\n",
    "import collections\n",
    "class Solution(object):\n",
    "    def isAnagram(self, s, t):\n",
    "        \"\"\"\n",
    "        :type s: str\n",
    "        :type t: str\n",
    "        :rtype: bool\n",
    "        \"\"\"\n",
    "\n",
    "        if collections.Counter(s)==collections.Counter(t):\n",
    "            return True\n",
    "        return False"
   ]
  },
  {
   "cell_type": "code",
   "execution_count": 24,
   "metadata": {},
   "outputs": [
    {
     "name": "stdout",
     "output_type": "stream",
     "text": [
      "case: 1\n",
      "  Strings: anagram ; nagaram\n",
      "  Expected: True\n",
      "  Output: True\n",
      "\n",
      "case: 2\n",
      "  Strings: rat ; car\n",
      "  Expected: False\n",
      "  Output: False\n",
      "\n",
      "case: 3\n",
      "  Strings: aa ; a\n",
      "  Expected: False\n",
      "  Output: False\n",
      "\n"
     ]
    }
   ],
   "source": [
    "iAna = Solution()\n",
    "\n",
    "test = {\n",
    "    1:{\"string s\":\"anagram\",\"string t\":\"nagaram\",'expected':True},\n",
    "    2:{\"string s\":\"rat\",\"string t\":\"car\",'expected':False},\n",
    "    3:{\"string s\":\"aa\",\"string t\":\"a\",'expected':False}\n",
    "}\n",
    "\n",
    "\n",
    "for case in test:\n",
    "\n",
    "    Sstr = test[case][\"string s\"]\n",
    "    Tstr = test[case][\"string t\"]\n",
    "    output = iAna.isAnagram(Sstr,Tstr)\n",
    "   \n",
    "    print(f\"case: {case}\\n  Strings: {Sstr} ; {Tstr}\\n  Expected: {test[case]['expected']}\\n  Output: {output}\\n\")"
   ]
  }
 ],
 "metadata": {
  "kernelspec": {
   "display_name": "cdcmy_ML_fund",
   "language": "python",
   "name": "python3"
  },
  "language_info": {
   "codemirror_mode": {
    "name": "ipython",
    "version": 3
   },
   "file_extension": ".py",
   "mimetype": "text/x-python",
   "name": "python",
   "nbconvert_exporter": "python",
   "pygments_lexer": "ipython3",
   "version": "3.9.15"
  },
  "orig_nbformat": 4,
  "vscode": {
   "interpreter": {
    "hash": "54acda0e4a8b02ad0d6527b366c3b6d96c2f93f4c42b5a0daff4543e008a537e"
   }
  }
 },
 "nbformat": 4,
 "nbformat_minor": 2
}
