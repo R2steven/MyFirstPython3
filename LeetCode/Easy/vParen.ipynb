{
 "cells": [
  {
   "cell_type": "code",
   "execution_count": 30,
   "metadata": {},
   "outputs": [],
   "source": [
    "class Solution(object):\n",
    "    def isValid(self, s):\n",
    "        \"\"\"\n",
    "        :type s: str\n",
    "        :rtype: bool\n",
    "        \"\"\"\n",
    "        parens = {'(':')','{':'}','[':']'}\n",
    "        charStack = []\n",
    "        rtn = True\n",
    "\n",
    "        if len(s)<1:\n",
    "            return True\n",
    "            \n",
    "        for char in s:\n",
    "            if char in parens.keys():\n",
    "                charStack.append(char)\n",
    "                continue\n",
    "            elif len(charStack)==0:\n",
    "                return False\n",
    "            open = charStack.pop()\n",
    "            if parens[open] != char:\n",
    "                return False\n",
    "        \n",
    "        if len(charStack)!=0:\n",
    "            rtn = False\n",
    "\n",
    "        return rtn"
   ]
  },
  {
   "cell_type": "code",
   "execution_count": 31,
   "metadata": {},
   "outputs": [
    {
     "name": "stdout",
     "output_type": "stream",
     "text": [
      "case: 1\n",
      " Conditions: {'Input': '()', 'Expected': True}\n",
      " Output: True\n",
      "case: 2\n",
      " Conditions: {'Input': '()[]{}', 'Expected': True}\n",
      " Output: True\n",
      "case: 3\n",
      " Conditions: {'Input': '(]', 'Expected': False}\n",
      " Output: False\n",
      "case: 4\n",
      " Conditions: {'Input': '[', 'Expected': False}\n",
      " Output: False\n",
      "case: 5\n",
      " Conditions: {'Input': '[[', 'Expected': False}\n",
      " Output: False\n",
      "case: 6\n",
      " Conditions: {'Input': ']', 'Expected': False}\n",
      " Output: False\n"
     ]
    }
   ],
   "source": [
    "iValid = Solution() \n",
    "test = {\n",
    "    1:{'Input':\"()\",'Expected':True},\n",
    "    2:{'Input':\"()[]{}\",'Expected':True},\n",
    "    3:{'Input':\"(]\",'Expected':False},\n",
    "    4:{'Input':\"[\",'Expected':False},\n",
    "    5:{'Input':\"[[\",'Expected':False},\n",
    "    6:{'Input':\"]\",'Expected':False}\n",
    "    }\n",
    "\n",
    "for case in test:\n",
    "    inp = test[case]['Input']\n",
    "    out = iValid.isValid(inp)\n",
    "    print(f'case: {case}\\n Conditions: {test[case]}\\n Output: {out}')"
   ]
  }
 ],
 "metadata": {
  "kernelspec": {
   "display_name": "cdcmy_ML_fund",
   "language": "python",
   "name": "python3"
  },
  "language_info": {
   "codemirror_mode": {
    "name": "ipython",
    "version": 3
   },
   "file_extension": ".py",
   "mimetype": "text/x-python",
   "name": "python",
   "nbconvert_exporter": "python",
   "pygments_lexer": "ipython3",
   "version": "3.9.15"
  },
  "orig_nbformat": 4,
  "vscode": {
   "interpreter": {
    "hash": "54acda0e4a8b02ad0d6527b366c3b6d96c2f93f4c42b5a0daff4543e008a537e"
   }
  }
 },
 "nbformat": 4,
 "nbformat_minor": 2
}
