{
 "cells": [
  {
   "cell_type": "code",
   "execution_count": 15,
   "metadata": {},
   "outputs": [],
   "source": [
    "#125. Valid Palindrome v2.0\n",
    "class Solution(object):\n",
    "    def isPalindrome(self, s):\n",
    "        \"\"\"\n",
    "        :type s: str\n",
    "        :rtype: bool\n",
    "        \"\"\"\n",
    "        alnum = ''.join(c for c in s if c.isalnum()).lower()\n",
    "\n",
    "        return alnum == alnum[::-1]"
   ]
  },
  {
   "cell_type": "code",
   "execution_count": 16,
   "metadata": {},
   "outputs": [
    {
     "name": "stdout",
     "output_type": "stream",
     "text": [
      "amanaplanacanalpanama\n",
      "case: 1\n",
      "  testString: A man, a plan, a canal: Panama\n",
      "  Expected: True\n",
      "  Output: True\n",
      "\n",
      "raceacar\n",
      "case: 2\n",
      "  testString: race a car\n",
      "  Expected: False\n",
      "  Output: False\n",
      "\n",
      "\n",
      "case: 3\n",
      "  testString:  \n",
      "  Expected: True\n",
      "  Output: True\n",
      "\n",
      "thegirlfromipanima\n",
      "case: 4\n",
      "  testString: the girl from: ipanima\n",
      "  Expected: False\n",
      "  Output: False\n",
      "\n"
     ]
    }
   ],
   "source": [
    "iPal = Solution()\n",
    "\n",
    "test = {\n",
    "    1:{\"string\":\"A man, a plan, a canal: Panama\",\"expected\":True},\n",
    "    2:{\"string\":\"race a car\",\"expected\":False},\n",
    "    3:{\"string\":\" \",'expected':True},\n",
    "    4:{\"string\":\"the girl from: ipanima\",'expected':False}\n",
    "}\n",
    "\n",
    "for case in test:\n",
    "\n",
    "    testString = test[case][\"string\"]\n",
    "    output = iPal.isPalindrome(testString)\n",
    "   \n",
    "    print(f\"case: {case}\\n  testString: {testString}\\n  Expected: {test[case]['expected']}\\n  Output: {output}\\n\")"
   ]
  }
 ],
 "metadata": {
  "kernelspec": {
   "display_name": "cdcmy_ML_fund",
   "language": "python",
   "name": "python3"
  },
  "language_info": {
   "codemirror_mode": {
    "name": "ipython",
    "version": 3
   },
   "file_extension": ".py",
   "mimetype": "text/x-python",
   "name": "python",
   "nbconvert_exporter": "python",
   "pygments_lexer": "ipython3",
   "version": "3.9.15"
  },
  "orig_nbformat": 4,
  "vscode": {
   "interpreter": {
    "hash": "54acda0e4a8b02ad0d6527b366c3b6d96c2f93f4c42b5a0daff4543e008a537e"
   }
  }
 },
 "nbformat": 4,
 "nbformat_minor": 2
}
