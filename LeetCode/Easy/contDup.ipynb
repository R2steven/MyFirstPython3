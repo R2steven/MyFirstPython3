{
 "cells": [
  {
   "cell_type": "code",
   "execution_count": 33,
   "metadata": {},
   "outputs": [],
   "source": [
    "#217. Contains Duplicate\n",
    "class Solution(object):\n",
    "    def containsDuplicate(self, nums):\n",
    "        \"\"\"\n",
    "        :type nums: List[int]\n",
    "        :rtype: bool\n",
    "        \"\"\"\n",
    "        hashTable = {}\n",
    "        for int in nums:\n",
    "            print(int)\n",
    "            if int in hashTable:\n",
    "                return True\n",
    "            else: hashTable[int]=True\n",
    "        return False"
   ]
  },
  {
   "cell_type": "code",
   "execution_count": 34,
   "metadata": {},
   "outputs": [
    {
     "name": "stdout",
     "output_type": "stream",
     "text": [
      "1\n",
      "2\n",
      "3\n",
      "1\n",
      "case: 1\n",
      "  Tarray: [1, 2, 3, 1]\n",
      "  Expected: True\n",
      "  Output: True\n",
      "\n",
      "1\n",
      "2\n",
      "3\n",
      "4\n",
      "case: 2\n",
      "  Tarray: [1, 2, 3, 4]\n",
      "  Expected: False\n",
      "  Output: False\n",
      "\n",
      "1\n",
      "1\n",
      "case: 3\n",
      "  Tarray: [1, 1, 1, 3, 3, 4, 3, 2, 4, 2]\n",
      "  Expected: True\n",
      "  Output: True\n",
      "\n"
     ]
    }
   ],
   "source": [
    "iDup = Solution()\n",
    "\n",
    "test = {\n",
    "    1:{\"nums\":[1,2,3,1],'expected':True},\n",
    "    2:{\"nums\":[1,2,3,4],'expected':False},\n",
    "    3:{\"nums\":[1,1,1,3,3,4,3,2,4,2],'expected':True}\n",
    "}\n",
    "\n",
    "\n",
    "for case in test:\n",
    "\n",
    "    Tarray = test[case][\"nums\"]\n",
    "    output = iDup.containsDuplicate(Tarray)\n",
    "   \n",
    "    print(f\"case: {case}\\n  Tarray: {Tarray}\\n  Expected: {test[case]['expected']}\\n  Output: {output}\\n\")"
   ]
  }
 ],
 "metadata": {
  "kernelspec": {
   "display_name": "cdcmy_ML_fund",
   "language": "python",
   "name": "python3"
  },
  "language_info": {
   "codemirror_mode": {
    "name": "ipython",
    "version": 3
   },
   "file_extension": ".py",
   "mimetype": "text/x-python",
   "name": "python",
   "nbconvert_exporter": "python",
   "pygments_lexer": "ipython3",
   "version": "3.9.15"
  },
  "orig_nbformat": 4,
  "vscode": {
   "interpreter": {
    "hash": "54acda0e4a8b02ad0d6527b366c3b6d96c2f93f4c42b5a0daff4543e008a537e"
   }
  }
 },
 "nbformat": 4,
 "nbformat_minor": 2
}
