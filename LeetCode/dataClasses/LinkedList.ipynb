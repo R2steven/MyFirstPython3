{
 "cells": [
  {
   "cell_type": "code",
   "execution_count": 10,
   "metadata": {},
   "outputs": [],
   "source": [
    "from dataclasses import dataclass\n",
    "@dataclass\n",
    "class Node():\n",
    "    value: 'typing.Any'\n",
    "    next_node: object() = None\n",
    "    "
   ]
  },
  {
   "cell_type": "code",
   "execution_count": 11,
   "metadata": {},
   "outputs": [],
   "source": [
    "class Linked_list():\n",
    "    def __init__(self, value):\n",
    "        self.head = Node('head',Node(value=value))\n",
    "    \n",
    "    def append_beg(self,new_value):\n",
    "        new_node = Node(new_value,self.head.next_node)\n",
    "        self.head.next_node = new_node\n",
    "\n",
    "    def toString(self):\n",
    "        pos = self.head.next_node\n",
    "        s = ''\n",
    "        while pos:\n",
    "            s+=str(pos.value)+','\n",
    "            pos = pos.next_node\n",
    "        return s\n",
    "    \n",
    "    def find_V(self, target = None):\n",
    "        \n",
    "        pos = self.head\n",
    "        while(pos):\n",
    "            if pos.value == target:\n",
    "                return pos\n",
    "            pos = pos.next_node\n",
    "        return pos\n",
    "    \n",
    "    def find_IV(self, index):\n",
    "        pos = self.head\n",
    "        for i in range(index):\n",
    "            if pos:\n",
    "                pos = pos.next_node\n",
    "            else: break\n",
    "        return pos\n",
    "    \n",
    "    def pop_V(self, target = None):\n",
    "        if not target:\n",
    "            return None\n",
    "\n",
    "        pos = self.head\n",
    "        while (pos):\n",
    "            if pos.next_node.value == target:\n",
    "                break\n",
    "            pos = pos.next_node\n",
    "        pop = pos.next_node\n",
    "        pos.next_node = pos.next_node.next_node\n",
    "        return pop\n",
    "\n",
    "    def pop_IV(self, index):\n",
    "        pos = self.head\n",
    "        for i in range(index-1):\n",
    "            if pos:\n",
    "                pos = pos.next_node\n",
    "            else: break\n",
    "        pop = pos.next_node\n",
    "        pos.next_node = pos.next_node.next_node\n",
    "        return pop\n",
    "\n",
    "\n",
    "        "
   ]
  },
  {
   "cell_type": "code",
   "execution_count": 12,
   "metadata": {},
   "outputs": [
    {
     "name": "stdout",
     "output_type": "stream",
     "text": [
      "9,8,7,6,5,4,3,2,1,0,\n",
      "Node(value=3, next_node=Node(value=2, next_node=Node(value=1, next_node=Node(value=0, next_node=None))))\n",
      "Node(value=7, next_node=Node(value=6, next_node=Node(value=5, next_node=Node(value=4, next_node=Node(value=3, next_node=Node(value=2, next_node=Node(value=1, next_node=Node(value=0, next_node=None))))))))\n",
      "9,8,7,6,5,4,2,1,0, Node(value=3, next_node=Node(value=2, next_node=Node(value=1, next_node=Node(value=0, next_node=None))))\n",
      "9,8,6,5,4,2,1,0, Node(value=7, next_node=Node(value=6, next_node=Node(value=5, next_node=Node(value=4, next_node=Node(value=2, next_node=Node(value=1, next_node=Node(value=0, next_node=None)))))))\n"
     ]
    }
   ],
   "source": [
    "\n",
    "mlist = Linked_list(0)\n",
    "for i in range(1,10):\n",
    "    mlist.append_beg(i)\n",
    "print(mlist.toString())\n",
    "value = mlist.find_V(3)\n",
    "print(value)\n",
    "value = mlist.find_IV(3)\n",
    "print(value)\n",
    "value = mlist.pop_V(3)\n",
    "print(mlist.toString(), value)\n",
    "value = mlist.pop_IV(3)\n",
    "print(mlist.toString(), value)\n"
   ]
  }
 ],
 "metadata": {
  "kernelspec": {
   "display_name": "cdcmy_ML_fund",
   "language": "python",
   "name": "python3"
  },
  "language_info": {
   "codemirror_mode": {
    "name": "ipython",
    "version": 3
   },
   "file_extension": ".py",
   "mimetype": "text/x-python",
   "name": "python",
   "nbconvert_exporter": "python",
   "pygments_lexer": "ipython3",
   "version": "3.9.15 (main, Nov  4 2022, 16:35:55) [MSC v.1916 64 bit (AMD64)]"
  },
  "orig_nbformat": 4,
  "vscode": {
   "interpreter": {
    "hash": "54acda0e4a8b02ad0d6527b366c3b6d96c2f93f4c42b5a0daff4543e008a537e"
   }
  }
 },
 "nbformat": 4,
 "nbformat_minor": 2
}
