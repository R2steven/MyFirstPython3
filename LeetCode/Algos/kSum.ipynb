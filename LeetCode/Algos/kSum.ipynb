{
 "cells": [
  {
   "cell_type": "code",
   "execution_count": 19,
   "metadata": {},
   "outputs": [],
   "source": [
    "\n",
    "class KSum():\n",
    "    def sortedKSum(self,sumKnums,nums,target,result,results)->list(list()):\n",
    "        if sumKnums>2:\n",
    "            for i in range(len(nums)):\n",
    "                if target<sumKnums*nums[i] or target>sumKnums*nums[-1]:\n",
    "                    break\n",
    "                if i==0 or (i>0 and nums[i-1]!=nums[i]):\n",
    "                    ntarget = target-nums[i]\n",
    "                    self.sortedKSum(sumKnums-1,nums[i+1:],ntarget,result,results+[nums[i]])\n",
    "\n",
    "        else:\n",
    "            self.sortedTwoPoint(nums,target,result,results)\n",
    "\n",
    "            \n",
    "        \n",
    "\n",
    "\n",
    "    def sortedTwoPoint(self, nums, target, result, results):\n",
    "        n = len(nums)\n",
    "        i=0\n",
    "        j=n-1\n",
    "\n",
    "        while (i<j):\n",
    "            if nums[i]+nums[j]==target:\n",
    "                result.append(results+[nums[i],nums[j]])\n",
    "                i+=1\n",
    "                j-=1\n",
    "                while (i<j and nums[i]==nums[i-1]):\n",
    "                    i+=1\n",
    "                while (i<j and nums[j]==nums[j+1]):\n",
    "                    j-=1\n",
    "            elif nums[i]+nums[j]<target:\n",
    "                i+=1\n",
    "            else:\n",
    "                j-=1"
   ]
  },
  {
   "cell_type": "code",
   "execution_count": 20,
   "metadata": {},
   "outputs": [
    {
     "name": "stdout",
     "output_type": "stream",
     "text": [
      "case: 1\n",
      "  target: 0, nums: [-2, -1, 0, 0, 1, 2]\n",
      "  Expected: [[-2, -1, 1, 2], [-2, 0, 0, 2], [-1, 0, 0, 1]]\n",
      "    Output: [[-2, -1, 1, 2], [-2, 0, 0, 2], [-1, 0, 0, 1]]\n",
      "\n",
      "case: 2\n",
      "  target: 8, nums: [2, 2, 2, 2, 2]\n",
      "  Expected: [[2, 2, 2, 2]]\n",
      "    Output: [[2, 2, 2, 2]]\n",
      "\n",
      "case: 3\n",
      "  target: 20, nums: [0, 0, 5, 6, 8, 10]\n",
      "  Expected: []\n",
      "    Output: []\n",
      "\n"
     ]
    }
   ],
   "source": [
    "sol = KSum()\n",
    "\n",
    "test4Sum = {\n",
    "    1:{\"nums\":[1,0,-1,0,-2,2],\"target\":0,\"Expected\":[[-2,-1,1,2],[-2,0,0,2],[-1,0,0,1]]},\n",
    "    2:{\"nums\":[2,2,2,2,2],\"target\":8,\"Expected\":[[2,2,2,2]]},\n",
    "    3:{\"nums\":[0,0,5,8,6,10],\"target\":20,\"Expected\":[]}}\n",
    "\n",
    "for case in test4Sum:\n",
    "    output = []\n",
    "    results = [] \n",
    "    nums=test4Sum[case][\"nums\"]\n",
    "    nums.sort()\n",
    "    sol.sortedKSum(sumKnums = 4,nums = nums,target = test4Sum[case]['target'],result = output,results = results)\n",
    "   \n",
    "    print(f\"case: {case}\\n  target: {test4Sum[case]['target']}, nums: {nums}\\n  Expected: {test4Sum[case]['Expected']}\\n    Output: {output}\\n\")"
   ]
  }
 ],
 "metadata": {
  "kernelspec": {
   "display_name": "cdcmy_ML_fund",
   "language": "python",
   "name": "python3"
  },
  "language_info": {
   "codemirror_mode": {
    "name": "ipython",
    "version": 3
   },
   "file_extension": ".py",
   "mimetype": "text/x-python",
   "name": "python",
   "nbconvert_exporter": "python",
   "pygments_lexer": "ipython3",
   "version": "3.9.15"
  },
  "orig_nbformat": 4,
  "vscode": {
   "interpreter": {
    "hash": "54acda0e4a8b02ad0d6527b366c3b6d96c2f93f4c42b5a0daff4543e008a537e"
   }
  }
 },
 "nbformat": 4,
 "nbformat_minor": 2
}
