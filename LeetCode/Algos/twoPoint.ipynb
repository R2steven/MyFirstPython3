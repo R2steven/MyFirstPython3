{
 "cells": [
  {
   "cell_type": "code",
   "execution_count": null,
   "metadata": {},
   "outputs": [],
   "source": [
    "class twoPoint:\n",
    "    def twoPoint(self, nums, target):\n",
    "        \n",
    "        nums.sort()\n",
    "        n = len(nums)\n",
    "        i=0\n",
    "        j=n-1\n",
    "\n",
    "        fSum=[]\n",
    "\n",
    "        while (i<j):\n",
    "            if nums[i]+nums[j]==target:\n",
    "                fSum.append([nums[i],nums[j]])\n",
    "                i+=1\n",
    "                j-=1\n",
    "                while nums[i]==nums[i+1]:\n",
    "                    i+=1\n",
    "                while nums[j]==nums[j-1]:\n",
    "                    j-=1\n",
    "            elif nums[i]+nums[j]<target:\n",
    "                i+=1\n",
    "            else:\n",
    "                j-=1\n",
    "\n",
    "        return fSum"
   ]
  }
 ],
 "metadata": {
  "kernelspec": {
   "display_name": "cdcmy_ML_fund",
   "language": "python",
   "name": "python3"
  },
  "language_info": {
   "name": "python",
   "version": "3.9.15 (main, Nov  4 2022, 16:35:55) [MSC v.1916 64 bit (AMD64)]"
  },
  "orig_nbformat": 4,
  "vscode": {
   "interpreter": {
    "hash": "54acda0e4a8b02ad0d6527b366c3b6d96c2f93f4c42b5a0daff4543e008a537e"
   }
  }
 },
 "nbformat": 4,
 "nbformat_minor": 2
}
