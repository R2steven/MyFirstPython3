{
 "cells": [
  {
   "attachments": {},
   "cell_type": "markdown",
   "metadata": {},
   "source": [
    "key assumption: height cotains a maximum element.\n",
    "key change from 1.0:\n",
    "    elements will increase from either end of height to maximum element in height. \n",
    "    record prev max and calculate water level until next max moving towards max in height.\n"
   ]
  },
  {
   "cell_type": "code",
   "execution_count": 21,
   "metadata": {},
   "outputs": [],
   "source": [
    "#42. Trapping Rain Water\n",
    "class Solution(object):\n",
    "    def trap(self, height)->int:\n",
    "        \"\"\"\n",
    "        :type height: List[int]\n",
    "        :rtype: int\n",
    "        \"\"\"\n",
    "        left,right = 0,len(height)-1\n",
    "        maxl,maxr = 0,0\n",
    "        volume = 0\n",
    "\n",
    "        while left<right:\n",
    "            if height[left]>height[right]:\n",
    "                if height[right]>maxr:\n",
    "                    maxr = height[right]\n",
    "                else:\n",
    "                    volume+=(maxr-height[right])\n",
    "                right-=1\n",
    "            else:\n",
    "                if height[left]>maxl:\n",
    "                    maxl = height[left]\n",
    "                else:\n",
    "                    volume+=(maxl-height[left])\n",
    "                left+=1\n",
    "        return volume\n",
    "\n"
   ]
  },
  {
   "cell_type": "code",
   "execution_count": 22,
   "metadata": {},
   "outputs": [
    {
     "name": "stdout",
     "output_type": "stream",
     "text": [
      "case: 1\n",
      "  height: [0, 1, 0, 2, 1, 0, 1, 3, 2, 1, 2, 1]\n",
      "  Expected: 6\n",
      "  Output: 6\n",
      "\n",
      "case: 2\n",
      "  height: [4, 2, 0, 3, 2, 5]\n",
      "  Expected: 9\n",
      "  Output: 9\n",
      "\n",
      "case: 3\n",
      "  height: [2, 3, 10, 5, 7, 8, 9]\n",
      "  Expected: 7\n",
      "  Output: 7\n",
      "\n",
      "case: 4\n",
      "  height: [2, 0, 2]\n",
      "  Expected: 2\n",
      "  Output: 2\n",
      "\n"
     ]
    }
   ],
   "source": [
    "Volume = Solution()\n",
    "test = {\n",
    "    1:{\"height\":[0,1,0,2,1,0,1,3,2,1,2,1],\"expected\":6},\n",
    "    2:{\"height\":[4,2,0,3,2,5],\"expected\":9},\n",
    "    3:{'height':[2,3,10,5,7,8,9],'expected':7},\n",
    "    4:{'height':[2,0,2],'expected':2}\n",
    "    }\n",
    "\n",
    "for case in test:\n",
    "\n",
    "    height = test[case][\"height\"]\n",
    "    output = Volume.trap(height = height)\n",
    "   \n",
    "    print(f\"case: {case}\\n  height: {height}\\n  Expected: {test[case]['expected']}\\n  Output: {output}\\n\")\n",
    "\n"
   ]
  }
 ],
 "metadata": {
  "kernelspec": {
   "display_name": "cdcmy_ML_fund",
   "language": "python",
   "name": "python3"
  },
  "language_info": {
   "codemirror_mode": {
    "name": "ipython",
    "version": 3
   },
   "file_extension": ".py",
   "mimetype": "text/x-python",
   "name": "python",
   "nbconvert_exporter": "python",
   "pygments_lexer": "ipython3",
   "version": "3.9.15"
  },
  "orig_nbformat": 4,
  "vscode": {
   "interpreter": {
    "hash": "54acda0e4a8b02ad0d6527b366c3b6d96c2f93f4c42b5a0daff4543e008a537e"
   }
  }
 },
 "nbformat": 4,
 "nbformat_minor": 2
}
