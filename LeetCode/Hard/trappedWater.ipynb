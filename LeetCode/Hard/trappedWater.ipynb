{
 "cells": [
  {
   "cell_type": "code",
   "execution_count": 135,
   "metadata": {},
   "outputs": [],
   "source": [
    "#42. Trapping Rain Water\n",
    "class Solution(object):\n",
    "    def trap(self, height)->int:\n",
    "        \"\"\"\n",
    "        :type height: List[int]\n",
    "        :rtype: int\n",
    "        \"\"\"\n",
    "        volume = 0\n",
    "        Max = height.index(max(height))\n",
    "        left = height[:Max+1]\n",
    "        right = height[Max::1]\n",
    "        right.reverse()\n",
    "        volume+=self.monoincrtrap(left)\n",
    "        volume+=self.monoincrtrap(right)\n",
    "        print(right)\n",
    "        return volume\n",
    "\n",
    "\n",
    "    \n",
    "    def monoincrtrap(self, height):\n",
    "        fast,slow = 0,0\n",
    "        volume = 0\n",
    "        \n",
    "        if height:\n",
    "            while slow<len(height)-1:\n",
    "                while height[fast]<=height[slow] and fast<len(height)-1:\n",
    "                    fast+=1\n",
    "                waterLevel = height[slow]\n",
    "                while slow<fast:\n",
    "                    volume+=(waterLevel-height[slow])\n",
    "                    slow+=1\n",
    "                    \n",
    "        return volume"
   ]
  },
  {
   "cell_type": "code",
   "execution_count": 136,
   "metadata": {},
   "outputs": [
    {
     "name": "stdout",
     "output_type": "stream",
     "text": [
      "[1, 2, 1, 2, 3]\n",
      "case: 1\n",
      "  height: [0, 1, 0, 2, 1, 0, 1, 3, 2, 1, 2, 1]\n",
      "  Expected: 6\n",
      "  Output: 6\n",
      "\n",
      "[5]\n",
      "case: 2\n",
      "  height: [4, 2, 0, 3, 2, 5]\n",
      "  Expected: 9\n",
      "  Output: 9\n",
      "\n",
      "[9, 8, 7, 5, 10]\n",
      "case: 3\n",
      "  height: [2, 3, 10, 5, 7, 8, 9]\n",
      "  Expected: 7\n",
      "  Output: 7\n",
      "\n",
      "[2, 0, 2]\n",
      "case: 4\n",
      "  height: [2, 0, 2]\n",
      "  Expected: 2\n",
      "  Output: 2\n",
      "\n"
     ]
    }
   ],
   "source": [
    "Volume = Solution()\n",
    "test = {\n",
    "    1:{\"height\":[0,1,0,2,1,0,1,3,2,1,2,1],\"expected\":6},\n",
    "    2:{\"height\":[4,2,0,3,2,5],\"expected\":9},\n",
    "    3:{'height':[2,3,10,5,7,8,9],'expected':7},\n",
    "    4:{'height':[2,0,2],'expected':2}\n",
    "    }\n",
    "\n",
    "for case in test:\n",
    "\n",
    "    height = test[case][\"height\"]\n",
    "    output = Volume.trap(height = height)\n",
    "   \n",
    "    print(f\"case: {case}\\n  height: {height}\\n  Expected: {test[case]['expected']}\\n  Output: {output}\\n\")\n",
    "\n"
   ]
  }
 ],
 "metadata": {
  "kernelspec": {
   "display_name": "cdcmy_ML_fund",
   "language": "python",
   "name": "python3"
  },
  "language_info": {
   "codemirror_mode": {
    "name": "ipython",
    "version": 3
   },
   "file_extension": ".py",
   "mimetype": "text/x-python",
   "name": "python",
   "nbconvert_exporter": "python",
   "pygments_lexer": "ipython3",
   "version": "3.9.15"
  },
  "orig_nbformat": 4,
  "vscode": {
   "interpreter": {
    "hash": "54acda0e4a8b02ad0d6527b366c3b6d96c2f93f4c42b5a0daff4543e008a537e"
   }
  }
 },
 "nbformat": 4,
 "nbformat_minor": 2
}
