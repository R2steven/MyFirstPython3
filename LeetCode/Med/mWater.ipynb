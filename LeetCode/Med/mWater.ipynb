{
 "cells": [
  {
   "cell_type": "code",
   "execution_count": 27,
   "metadata": {},
   "outputs": [],
   "source": [
    "class Solution(object):\n",
    "    def maxArea(self, height):\n",
    "        \"\"\"\n",
    "        :type height: List[int]\n",
    "        :rtype: int\n",
    "        \"\"\"\n",
    "        i,j=0,len(height)-1\n",
    "        volume = 0\n",
    "\n",
    "        while i<j:\n",
    "            volume=max(volume,min(height[i],height[j])*(j-i))\n",
    "            if height[i]<=height[j]:\n",
    "                i+=1\n",
    "            elif height[i]>height[j]:\n",
    "                j-=1\n",
    "        \n",
    "        return volume\n",
    "\n",
    "\n",
    "        "
   ]
  },
  {
   "cell_type": "code",
   "execution_count": 28,
   "metadata": {},
   "outputs": [
    {
     "name": "stdout",
     "output_type": "stream",
     "text": [
      "case: 1\n",
      "  height: [1, 8, 6, 2, 5, 4, 8, 3, 7]\n",
      "  Expected: 49\n",
      "  Output: 49\n",
      "\n",
      "case: 2\n",
      "  height: [1, 1]\n",
      "  Expected: 1\n",
      "  Output: 1\n",
      "\n",
      "case: 3\n",
      "  height: [2, 3, 10, 5, 7, 8, 9]\n",
      "  Expected: 36\n",
      "  Output: 36\n",
      "\n"
     ]
    }
   ],
   "source": [
    "MVolume = Solution()\n",
    "test = {\n",
    "    1:{\"height\":[1,8,6,2,5,4,8,3,7],\"expected\":49},\n",
    "    2:{\"height\":[1,1],\"expected\":1},\n",
    "    3:{'height':[2,3,10,5,7,8,9],'expected':36}\n",
    "    }\n",
    "\n",
    "for case in test:\n",
    "\n",
    "    height = test[case][\"height\"]\n",
    "    output = MVolume.maxArea(height = height)\n",
    "   \n",
    "    print(f\"case: {case}\\n  height: {height}\\n  Expected: {test[case]['expected']}\\n  Output: {output}\\n\")"
   ]
  }
 ],
 "metadata": {
  "kernelspec": {
   "display_name": "cdcmy_ML_fund",
   "language": "python",
   "name": "python3"
  },
  "language_info": {
   "codemirror_mode": {
    "name": "ipython",
    "version": 3
   },
   "file_extension": ".py",
   "mimetype": "text/x-python",
   "name": "python",
   "nbconvert_exporter": "python",
   "pygments_lexer": "ipython3",
   "version": "3.9.15"
  },
  "orig_nbformat": 4,
  "vscode": {
   "interpreter": {
    "hash": "54acda0e4a8b02ad0d6527b366c3b6d96c2f93f4c42b5a0daff4543e008a537e"
   }
  }
 },
 "nbformat": 4,
 "nbformat_minor": 2
}
