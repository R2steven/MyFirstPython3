{
 "cells": [
  {
   "cell_type": "code",
   "execution_count": 43,
   "metadata": {},
   "outputs": [],
   "source": [
    "class Solution(object):\n",
    "    def trap(self, height)->int:\n",
    "        \"\"\"\n",
    "        :type height: List[int]\n",
    "        :rtype: int\n",
    "        \"\"\""
   ]
  },
  {
   "cell_type": "code",
   "execution_count": 44,
   "metadata": {},
   "outputs": [
    {
     "ename": "KeyboardInterrupt",
     "evalue": "",
     "output_type": "error",
     "traceback": [
      "\u001b[1;31m---------------------------------------------------------------------------\u001b[0m",
      "\u001b[1;31mKeyboardInterrupt\u001b[0m                         Traceback (most recent call last)",
      "Cell \u001b[1;32mIn [44], line 11\u001b[0m\n\u001b[0;32m      8\u001b[0m \u001b[39mfor\u001b[39;00m case \u001b[39min\u001b[39;00m test:\n\u001b[0;32m     10\u001b[0m     height \u001b[39m=\u001b[39m test[case][\u001b[39m\"\u001b[39m\u001b[39mheight\u001b[39m\u001b[39m\"\u001b[39m]\n\u001b[1;32m---> 11\u001b[0m     output \u001b[39m=\u001b[39m Volume\u001b[39m.\u001b[39;49mtrap(height \u001b[39m=\u001b[39;49m height)\n\u001b[0;32m     13\u001b[0m     \u001b[39mprint\u001b[39m(\u001b[39mf\u001b[39m\u001b[39m\"\u001b[39m\u001b[39mcase: \u001b[39m\u001b[39m{\u001b[39;00mcase\u001b[39m}\u001b[39;00m\u001b[39m\\n\u001b[39;00m\u001b[39m  height: \u001b[39m\u001b[39m{\u001b[39;00mheight\u001b[39m}\u001b[39;00m\u001b[39m\\n\u001b[39;00m\u001b[39m  Expected: \u001b[39m\u001b[39m{\u001b[39;00mtest[case][\u001b[39m'\u001b[39m\u001b[39mexpected\u001b[39m\u001b[39m'\u001b[39m]\u001b[39m}\u001b[39;00m\u001b[39m\\n\u001b[39;00m\u001b[39m  Output: \u001b[39m\u001b[39m{\u001b[39;00moutput\u001b[39m}\u001b[39;00m\u001b[39m\\n\u001b[39;00m\u001b[39m\"\u001b[39m)\n",
      "Cell \u001b[1;32mIn [43], line 20\u001b[0m, in \u001b[0;36mSolution.trap\u001b[1;34m(self, height)\u001b[0m\n\u001b[0;32m     18\u001b[0m         waterLevel \u001b[39m=\u001b[39m heightStack\u001b[39m.\u001b[39mpop()\n\u001b[0;32m     19\u001b[0m     \u001b[39mwhile\u001b[39;00m slow\u001b[39m<\u001b[39mfast:\n\u001b[1;32m---> 20\u001b[0m         volume \u001b[39m+\u001b[39m\u001b[39m=\u001b[39m waterLevel\u001b[39m-\u001b[39;49mheight[slow]\n\u001b[0;32m     21\u001b[0m heightStack \u001b[39m=\u001b[39m []\n\u001b[0;32m     23\u001b[0m \u001b[39mreturn\u001b[39;00m volume\n",
      "\u001b[1;31mKeyboardInterrupt\u001b[0m: "
     ]
    }
   ],
   "source": [
    "Volume = Solution()\n",
    "test = {\n",
    "    1:{\"height\":[0,1,0,2,1,0,1,3,2,1,2,1],\"expected\":6},\n",
    "    2:{\"height\":[4,2,0,3,2,5],\"expected\":9},\n",
    "    3:{'height':[2,3,10,5,7,8,9],'expected':7}\n",
    "    }\n",
    "\n",
    "for case in test:\n",
    "\n",
    "    height = test[case][\"height\"]\n",
    "    output = Volume.trap(height = height)\n",
    "   \n",
    "    print(f\"case: {case}\\n  height: {height}\\n  Expected: {test[case]['expected']}\\n  Output: {output}\\n\")"
   ]
  }
 ],
 "metadata": {
  "kernelspec": {
   "display_name": "cdcmy_ML_fund",
   "language": "python",
   "name": "python3"
  },
  "language_info": {
   "codemirror_mode": {
    "name": "ipython",
    "version": 3
   },
   "file_extension": ".py",
   "mimetype": "text/x-python",
   "name": "python",
   "nbconvert_exporter": "python",
   "pygments_lexer": "ipython3",
   "version": "3.9.15"
  },
  "orig_nbformat": 4,
  "vscode": {
   "interpreter": {
    "hash": "54acda0e4a8b02ad0d6527b366c3b6d96c2f93f4c42b5a0daff4543e008a537e"
   }
  }
 },
 "nbformat": 4,
 "nbformat_minor": 2
}
