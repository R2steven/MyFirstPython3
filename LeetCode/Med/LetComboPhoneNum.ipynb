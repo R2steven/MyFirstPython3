{
 "cells": [
  {
   "cell_type": "code",
   "execution_count": 42,
   "metadata": {},
   "outputs": [],
   "source": [
    "class Solution(object):\n",
    "    def letterCombinations(self, digits):\n",
    "        \"\"\"\n",
    "        :type digits: str\n",
    "        :rtype: List[str]\n",
    "        \"\"\"\n",
    "       \n",
    "        combos = [] #return list\n",
    "        keypad = ['','','abc','def','ghi','jkl','mno','pqrs','tuv','wxyz'] #phone pinpad, index is pinpad number\n",
    "        list = [''] #list to iterate on\n",
    "        n = len(digits) #length of number\n",
    "        \n",
    "        # return empty list if no number given\n",
    "        if not digits:\n",
    "            return []\n",
    "\n",
    "        #loop until all sols in list are moved into combos\n",
    "        while(len(list)!=0):\n",
    "            s = list.pop(-1) #retrieve string from list\n",
    "\n",
    "            #append strings of proper length to combos\n",
    "            if len(s) == n:\n",
    "                combos.append(s)\n",
    "\n",
    "            #loop through the letters a key number maps to\n",
    "            else:\n",
    "                for letter in keypad[int(digits[len(s)])]:\n",
    "                    list.append(s+letter)\n",
    "        \n",
    "        return combos"
   ]
  },
  {
   "cell_type": "code",
   "execution_count": 43,
   "metadata": {},
   "outputs": [
    {
     "name": "stdout",
     "output_type": "stream",
     "text": [
      "23 true\n",
      " true\n",
      "2 true\n",
      "2654 true\n",
      "9797 true\n",
      "9397 true\n",
      "9999 true\n"
     ]
    }
   ],
   "source": [
    "cases = {'23':[\"ad\",\"ae\",\"af\",\"bd\",\"be\",\"bf\",\"cd\",\"ce\",\"cf\"],'':[],'2':[\"a\",\"b\",\"c\"],'2654':[\"amjg\",\"amjh\",\"amji\",\"amkg\",\"amkh\",\"amki\",\"amlg\",\"amlh\",\"amli\",\"anjg\",\"anjh\",\"anji\",\"ankg\",\"ankh\",\"anki\",\"anlg\",\"anlh\",\"anli\",\"aojg\",\"aojh\",\"aoji\",\"aokg\",\"aokh\",\"aoki\",\"aolg\",\"aolh\",\"aoli\",\"bmjg\",\"bmjh\",\"bmji\",\"bmkg\",\"bmkh\",\"bmki\",\"bmlg\",\"bmlh\",\"bmli\",\"bnjg\",\"bnjh\",\"bnji\",\"bnkg\",\"bnkh\",\"bnki\",\"bnlg\",\"bnlh\",\"bnli\",\"bojg\",\"bojh\",\"boji\",\"bokg\",\"bokh\",\"boki\",\"bolg\",\"bolh\",\"boli\",\"cmjg\",\"cmjh\",\"cmji\",\"cmkg\",\"cmkh\",\"cmki\",\"cmlg\",\"cmlh\",\"cmli\",\"cnjg\",\"cnjh\",\"cnji\",\"cnkg\",\"cnkh\",\"cnki\",\"cnlg\",\"cnlh\",\"cnli\",\"cojg\",\"cojh\",\"coji\",\"cokg\",\"cokh\",\"coki\",\"colg\",\"colh\",\"coli\"],'9797':[\"wpwp\",\"wpwq\",\"wpwr\",\"wpws\",\"wpxp\",\"wpxq\",\"wpxr\",\"wpxs\",\"wpyp\",\"wpyq\",\"wpyr\",\"wpys\",\"wpzp\",\"wpzq\",\"wpzr\",\"wpzs\",\"wqwp\",\"wqwq\",\"wqwr\",\"wqws\",\"wqxp\",\"wqxq\",\"wqxr\",\"wqxs\",\"wqyp\",\"wqyq\",\"wqyr\",\"wqys\",\"wqzp\",\"wqzq\",\"wqzr\",\"wqzs\",\"wrwp\",\"wrwq\",\"wrwr\",\"wrws\",\"wrxp\",\"wrxq\",\"wrxr\",\"wrxs\",\"wryp\",\"wryq\",\"wryr\",\"wrys\",\"wrzp\",\"wrzq\",\"wrzr\",\"wrzs\",\"wswp\",\"wswq\",\"wswr\",\"wsws\",\"wsxp\",\"wsxq\",\"wsxr\",\"wsxs\",\"wsyp\",\"wsyq\",\"wsyr\",\"wsys\",\"wszp\",\"wszq\",\"wszr\",\"wszs\",\"xpwp\",\"xpwq\",\"xpwr\",\"xpws\",\"xpxp\",\"xpxq\",\"xpxr\",\"xpxs\",\"xpyp\",\"xpyq\",\"xpyr\",\"xpys\",\"xpzp\",\"xpzq\",\"xpzr\",\"xpzs\",\"xqwp\",\"xqwq\",\"xqwr\",\"xqws\",\"xqxp\",\"xqxq\",\"xqxr\",\"xqxs\",\"xqyp\",\"xqyq\",\"xqyr\",\"xqys\",\"xqzp\",\"xqzq\",\"xqzr\",\"xqzs\",\"xrwp\",\"xrwq\",\"xrwr\",\"xrws\",\"xrxp\",\"xrxq\",\"xrxr\",\"xrxs\",\"xryp\",\"xryq\",\"xryr\",\"xrys\",\"xrzp\",\"xrzq\",\"xrzr\",\"xrzs\",\"xswp\",\"xswq\",\"xswr\",\"xsws\",\"xsxp\",\"xsxq\",\"xsxr\",\"xsxs\",\"xsyp\",\"xsyq\",\"xsyr\",\"xsys\",\"xszp\",\"xszq\",\"xszr\",\"xszs\",\"ypwp\",\"ypwq\",\"ypwr\",\"ypws\",\"ypxp\",\"ypxq\",\"ypxr\",\"ypxs\",\"ypyp\",\"ypyq\",\"ypyr\",\"ypys\",\"ypzp\",\"ypzq\",\"ypzr\",\"ypzs\",\"yqwp\",\"yqwq\",\"yqwr\",\"yqws\",\"yqxp\",\"yqxq\",\"yqxr\",\"yqxs\",\"yqyp\",\"yqyq\",\"yqyr\",\"yqys\",\"yqzp\",\"yqzq\",\"yqzr\",\"yqzs\",\"yrwp\",\"yrwq\",\"yrwr\",\"yrws\",\"yrxp\",\"yrxq\",\"yrxr\",\"yrxs\",\"yryp\",\"yryq\",\"yryr\",\"yrys\",\"yrzp\",\"yrzq\",\"yrzr\",\"yrzs\",\"yswp\",\"yswq\",\"yswr\",\"ysws\",\"ysxp\",\"ysxq\",\"ysxr\",\"ysxs\",\"ysyp\",\"ysyq\",\"ysyr\",\"ysys\",\"yszp\",\"yszq\",\"yszr\",\"yszs\",\"zpwp\",\"zpwq\",\"zpwr\",\"zpws\",\"zpxp\",\"zpxq\",\"zpxr\",\"zpxs\",\"zpyp\",\"zpyq\",\"zpyr\",\"zpys\",\"zpzp\",\"zpzq\",\"zpzr\",\"zpzs\",\"zqwp\",\"zqwq\",\"zqwr\",\"zqws\",\"zqxp\",\"zqxq\",\"zqxr\",\"zqxs\",\"zqyp\",\"zqyq\",\"zqyr\",\"zqys\",\"zqzp\",\"zqzq\",\"zqzr\",\"zqzs\",\"zrwp\",\"zrwq\",\"zrwr\",\"zrws\",\"zrxp\",\"zrxq\",\"zrxr\",\"zrxs\",\"zryp\",\"zryq\",\"zryr\",\"zrys\",\"zrzp\",\"zrzq\",\"zrzr\",\"zrzs\",\"zswp\",\"zswq\",\"zswr\",\"zsws\",\"zsxp\",\"zsxq\",\"zsxr\",\"zsxs\",\"zsyp\",\"zsyq\",\"zsyr\",\"zsys\",\"zszp\",\"zszq\",\"zszr\",\"zszs\"],\"9397\":[\"wdwp\",\"wdwq\",\"wdwr\",\"wdws\",\"wdxp\",\"wdxq\",\"wdxr\",\"wdxs\",\"wdyp\",\"wdyq\",\"wdyr\",\"wdys\",\"wdzp\",\"wdzq\",\"wdzr\",\"wdzs\",\"wewp\",\"wewq\",\"wewr\",\"wews\",\"wexp\",\"wexq\",\"wexr\",\"wexs\",\"weyp\",\"weyq\",\"weyr\",\"weys\",\"wezp\",\"wezq\",\"wezr\",\"wezs\",\"wfwp\",\"wfwq\",\"wfwr\",\"wfws\",\"wfxp\",\"wfxq\",\"wfxr\",\"wfxs\",\"wfyp\",\"wfyq\",\"wfyr\",\"wfys\",\"wfzp\",\"wfzq\",\"wfzr\",\"wfzs\",\"xdwp\",\"xdwq\",\"xdwr\",\"xdws\",\"xdxp\",\"xdxq\",\"xdxr\",\"xdxs\",\"xdyp\",\"xdyq\",\"xdyr\",\"xdys\",\"xdzp\",\"xdzq\",\"xdzr\",\"xdzs\",\"xewp\",\"xewq\",\"xewr\",\"xews\",\"xexp\",\"xexq\",\"xexr\",\"xexs\",\"xeyp\",\"xeyq\",\"xeyr\",\"xeys\",\"xezp\",\"xezq\",\"xezr\",\"xezs\",\"xfwp\",\"xfwq\",\"xfwr\",\"xfws\",\"xfxp\",\"xfxq\",\"xfxr\",\"xfxs\",\"xfyp\",\"xfyq\",\"xfyr\",\"xfys\",\"xfzp\",\"xfzq\",\"xfzr\",\"xfzs\",\"ydwp\",\"ydwq\",\"ydwr\",\"ydws\",\"ydxp\",\"ydxq\",\"ydxr\",\"ydxs\",\"ydyp\",\"ydyq\",\"ydyr\",\"ydys\",\"ydzp\",\"ydzq\",\"ydzr\",\"ydzs\",\"yewp\",\"yewq\",\"yewr\",\"yews\",\"yexp\",\"yexq\",\"yexr\",\"yexs\",\"yeyp\",\"yeyq\",\"yeyr\",\"yeys\",\"yezp\",\"yezq\",\"yezr\",\"yezs\",\"yfwp\",\"yfwq\",\"yfwr\",\"yfws\",\"yfxp\",\"yfxq\",\"yfxr\",\"yfxs\",\"yfyp\",\"yfyq\",\"yfyr\",\"yfys\",\"yfzp\",\"yfzq\",\"yfzr\",\"yfzs\",\"zdwp\",\"zdwq\",\"zdwr\",\"zdws\",\"zdxp\",\"zdxq\",\"zdxr\",\"zdxs\",\"zdyp\",\"zdyq\",\"zdyr\",\"zdys\",\"zdzp\",\"zdzq\",\"zdzr\",\"zdzs\",\"zewp\",\"zewq\",\"zewr\",\"zews\",\"zexp\",\"zexq\",\"zexr\",\"zexs\",\"zeyp\",\"zeyq\",\"zeyr\",\"zeys\",\"zezp\",\"zezq\",\"zezr\",\"zezs\",\"zfwp\",\"zfwq\",\"zfwr\",\"zfws\",\"zfxp\",\"zfxq\",\"zfxr\",\"zfxs\",\"zfyp\",\"zfyq\",\"zfyr\",\"zfys\",\"zfzp\",\"zfzq\",\"zfzr\",\"zfzs\"],\"9999\":[\"wwww\",\"wwwx\",\"wwwy\",\"wwwz\",\"wwxw\",\"wwxx\",\"wwxy\",\"wwxz\",\"wwyw\",\"wwyx\",\"wwyy\",\"wwyz\",\"wwzw\",\"wwzx\",\"wwzy\",\"wwzz\",\"wxww\",\"wxwx\",\"wxwy\",\"wxwz\",\"wxxw\",\"wxxx\",\"wxxy\",\"wxxz\",\"wxyw\",\"wxyx\",\"wxyy\",\"wxyz\",\"wxzw\",\"wxzx\",\"wxzy\",\"wxzz\",\"wyww\",\"wywx\",\"wywy\",\"wywz\",\"wyxw\",\"wyxx\",\"wyxy\",\"wyxz\",\"wyyw\",\"wyyx\",\"wyyy\",\"wyyz\",\"wyzw\",\"wyzx\",\"wyzy\",\"wyzz\",\"wzww\",\"wzwx\",\"wzwy\",\"wzwz\",\"wzxw\",\"wzxx\",\"wzxy\",\"wzxz\",\"wzyw\",\"wzyx\",\"wzyy\",\"wzyz\",\"wzzw\",\"wzzx\",\"wzzy\",\"wzzz\",\"xwww\",\"xwwx\",\"xwwy\",\"xwwz\",\"xwxw\",\"xwxx\",\"xwxy\",\"xwxz\",\"xwyw\",\"xwyx\",\"xwyy\",\"xwyz\",\"xwzw\",\"xwzx\",\"xwzy\",\"xwzz\",\"xxww\",\"xxwx\",\"xxwy\",\"xxwz\",\"xxxw\",\"xxxx\",\"xxxy\",\"xxxz\",\"xxyw\",\"xxyx\",\"xxyy\",\"xxyz\",\"xxzw\",\"xxzx\",\"xxzy\",\"xxzz\",\"xyww\",\"xywx\",\"xywy\",\"xywz\",\"xyxw\",\"xyxx\",\"xyxy\",\"xyxz\",\"xyyw\",\"xyyx\",\"xyyy\",\"xyyz\",\"xyzw\",\"xyzx\",\"xyzy\",\"xyzz\",\"xzww\",\"xzwx\",\"xzwy\",\"xzwz\",\"xzxw\",\"xzxx\",\"xzxy\",\"xzxz\",\"xzyw\",\"xzyx\",\"xzyy\",\"xzyz\",\"xzzw\",\"xzzx\",\"xzzy\",\"xzzz\",\"ywww\",\"ywwx\",\"ywwy\",\"ywwz\",\"ywxw\",\"ywxx\",\"ywxy\",\"ywxz\",\"ywyw\",\"ywyx\",\"ywyy\",\"ywyz\",\"ywzw\",\"ywzx\",\"ywzy\",\"ywzz\",\"yxww\",\"yxwx\",\"yxwy\",\"yxwz\",\"yxxw\",\"yxxx\",\"yxxy\",\"yxxz\",\"yxyw\",\"yxyx\",\"yxyy\",\"yxyz\",\"yxzw\",\"yxzx\",\"yxzy\",\"yxzz\",\"yyww\",\"yywx\",\"yywy\",\"yywz\",\"yyxw\",\"yyxx\",\"yyxy\",\"yyxz\",\"yyyw\",\"yyyx\",\"yyyy\",\"yyyz\",\"yyzw\",\"yyzx\",\"yyzy\",\"yyzz\",\"yzww\",\"yzwx\",\"yzwy\",\"yzwz\",\"yzxw\",\"yzxx\",\"yzxy\",\"yzxz\",\"yzyw\",\"yzyx\",\"yzyy\",\"yzyz\",\"yzzw\",\"yzzx\",\"yzzy\",\"yzzz\",\"zwww\",\"zwwx\",\"zwwy\",\"zwwz\",\"zwxw\",\"zwxx\",\"zwxy\",\"zwxz\",\"zwyw\",\"zwyx\",\"zwyy\",\"zwyz\",\"zwzw\",\"zwzx\",\"zwzy\",\"zwzz\",\"zxww\",\"zxwx\",\"zxwy\",\"zxwz\",\"zxxw\",\"zxxx\",\"zxxy\",\"zxxz\",\"zxyw\",\"zxyx\",\"zxyy\",\"zxyz\",\"zxzw\",\"zxzx\",\"zxzy\",\"zxzz\",\"zyww\",\"zywx\",\"zywy\",\"zywz\",\"zyxw\",\"zyxx\",\"zyxy\",\"zyxz\",\"zyyw\",\"zyyx\",\"zyyy\",\"zyyz\",\"zyzw\",\"zyzx\",\"zyzy\",\"zyzz\",\"zzww\",\"zzwx\",\"zzwy\",\"zzwz\",\"zzxw\",\"zzxx\",\"zzxy\",\"zzxz\",\"zzyw\",\"zzyx\",\"zzyy\",\"zzyz\",\"zzzw\",\"zzzx\",\"zzzy\",\"zzzz\"]}\n",
    "\n",
    "sol = Solution()\n",
    "for key in cases:\n",
    "    keysol = sol.letterCombinations(key)\n",
    "    keysol.sort()\n",
    "    if  keysol == cases[key]:\n",
    "        print(key,'true')\n",
    "    else:\n",
    "        print(key,'false')"
   ]
  }
 ],
 "metadata": {
  "kernelspec": {
   "display_name": "cdcmy_ML_fund",
   "language": "python",
   "name": "python3"
  },
  "language_info": {
   "codemirror_mode": {
    "name": "ipython",
    "version": 3
   },
   "file_extension": ".py",
   "mimetype": "text/x-python",
   "name": "python",
   "nbconvert_exporter": "python",
   "pygments_lexer": "ipython3",
   "version": "3.9.15 (main, Nov  4 2022, 16:35:55) [MSC v.1916 64 bit (AMD64)]"
  },
  "orig_nbformat": 4,
  "vscode": {
   "interpreter": {
    "hash": "54acda0e4a8b02ad0d6527b366c3b6d96c2f93f4c42b5a0daff4543e008a537e"
   }
  }
 },
 "nbformat": 4,
 "nbformat_minor": 2
}
