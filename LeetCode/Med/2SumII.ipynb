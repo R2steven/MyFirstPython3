{
 "cells": [
  {
   "cell_type": "code",
   "execution_count": 11,
   "metadata": {},
   "outputs": [],
   "source": [
    "#167. Two Sum II - Input Array Is Sorted\n",
    "class Solution(object):\n",
    "    def twoSum(self, numbers, target):\n",
    "        \"\"\"\n",
    "        :type numbers: List[int]\n",
    "        :type target: int\n",
    "        :rtype: List[int]\n",
    "        \"\"\"\n",
    "        i,j=0,len(numbers)-1\n",
    "\n",
    "        while i<j:\n",
    "            if numbers[i]+numbers[j]>target:\n",
    "                j-=1\n",
    "            elif numbers[i]+numbers[j]<target:\n",
    "                i+=1\n",
    "            else:\n",
    "                return [i+1,j+1]\n",
    "        return []"
   ]
  },
  {
   "cell_type": "code",
   "execution_count": 12,
   "metadata": {},
   "outputs": [
    {
     "name": "stdout",
     "output_type": "stream",
     "text": [
      "case: 1 \n",
      " {'nums': [2, 7, 11, 15], 'target': 9, 'expected': [1, 2]}\n",
      " Output: [1, 2]\n",
      " diff = []\n",
      " length diff  = 0\n",
      "case: 2 \n",
      " {'nums': [2, 3, 4], 'target': 6, 'expected': [1, 3]}\n",
      " Output: [1, 3]\n",
      " diff = []\n",
      " length diff  = 0\n",
      "case: 3 \n",
      " {'nums': [-1, 0], 'target': -1, 'expected': [1, 2]}\n",
      " Output: [1, 2]\n",
      " diff = []\n",
      " length diff  = 0\n"
     ]
    }
   ],
   "source": [
    "TSum = Solution()\n",
    "test = {\n",
    "    1:{\"nums\":[2,7,11,15],\"target\":9,\"expected\":[1,2]},\n",
    "    2:{\"nums\":[2,3,4],\"target\":6,\"expected\":[1,3]},\n",
    "    3:{\"nums\":[-1,0],\"target\":-1,\"expected\":[1,2]}\n",
    "    }\n",
    "\n",
    "for case in test:\n",
    "    expected = test[case]['expected']\n",
    "    output = TSum.twoSum(test[case]['nums'],test[case]['target'])\n",
    "    diff = [x for x in output if x not in expected]\n",
    "    Ldiff = len(output)-len(expected)\n",
    "    print(f'case: {case} \\n {test[case]}\\n Output: {output}\\n diff = {diff}\\n length diff  = {Ldiff}')"
   ]
  }
 ],
 "metadata": {
  "kernelspec": {
   "display_name": "cdcmy_ML_fund",
   "language": "python",
   "name": "python3"
  },
  "language_info": {
   "codemirror_mode": {
    "name": "ipython",
    "version": 3
   },
   "file_extension": ".py",
   "mimetype": "text/x-python",
   "name": "python",
   "nbconvert_exporter": "python",
   "pygments_lexer": "ipython3",
   "version": "3.9.15"
  },
  "orig_nbformat": 4,
  "vscode": {
   "interpreter": {
    "hash": "54acda0e4a8b02ad0d6527b366c3b6d96c2f93f4c42b5a0daff4543e008a537e"
   }
  }
 },
 "nbformat": 4,
 "nbformat_minor": 2
}
