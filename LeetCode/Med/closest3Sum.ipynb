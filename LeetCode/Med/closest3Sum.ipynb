{
 "cells": [
  {
   "cell_type": "code",
   "execution_count": null,
   "metadata": {},
   "outputs": [],
   "source": [
    "class Solution(object):\n",
    "    def threeSumClosest(self, nums, target):\n",
    "        \"\"\"\n",
    "        :type nums: List[int]\n",
    "        :type target: int\n",
    "        :rtype: int\n",
    "        \"\"\"\n",
    "        # max distance to target = 10^4 - min(abs(nums)) = 10^4-0 = 10^4\n",
    "        least = 3*(10**4)\n",
    "\n",
    "        #sort\n",
    "        nums.sort()\n",
    "\n",
    "        print(nums)\n",
    "        # three pointer\n",
    "        for i in range(len(nums)-2):\n",
    "            if i>0 and nums[i-1]==nums[i]:\n",
    "                continue\n",
    "            \n",
    "            #set pointers\n",
    "            left = i+1\n",
    "            right = len(nums)-1\n",
    "\n",
    "            #two pointer\n",
    "            while(left<right):\n",
    "                sums = nums[i]+nums[left]+nums[right]\n",
    "                dist = abs(target-sums)\n",
    "                #print(min(abs(least),abs(sums)))\n",
    "                print(dist,i,left,right)\n",
    "                # if sum == target, return sum\n",
    "                if dist == 0 :\n",
    "                    return target\n",
    "                if min(abs(target-least),dist)==dist:\n",
    "                    least = sums #abs(sums) is distance to zero\n",
    "                if sums<target:\n",
    "                    left+=1\n",
    "                if sums>target:\n",
    "                    right-=1\n",
    "\n",
    "        return int(least)"
   ]
  }
 ],
 "metadata": {
  "language_info": {
   "name": "python"
  },
  "orig_nbformat": 4
 },
 "nbformat": 4,
 "nbformat_minor": 2
}
