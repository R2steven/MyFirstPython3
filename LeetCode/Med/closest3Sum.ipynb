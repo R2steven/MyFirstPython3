{
 "cells": [
  {
   "cell_type": "code",
   "execution_count": null,
   "metadata": {},
   "outputs": [],
   "source": [
    "class Solution(object):\n",
    "    def threeSumClosest(self, nums, target):\n",
    "        \"\"\"\n",
    "        :type nums: List[int]\n",
    "        :type target: int\n",
    "        :rtype: int\n",
    "        \"\"\"\n",
    "        # max distance to target = 10^4 - min(abs(nums)) = 10^4-0 = 10^4\n",
    "        least = 3*(10**4)\n",
    "\n",
    "        #sort\n",
    "        nums.sort()\n",
    "\n",
    "        print(nums)\n",
    "        # three pointer\n",
    "        for i in range(len(nums)-2):\n",
    "            if i>0 and nums[i-1]==nums[i]:\n",
    "                continue\n",
    "            \n",
    "            #set pointers\n",
    "            left = i+1\n",
    "            right = len(nums)-1\n",
    "\n",
    "            #two pointer\n",
    "            while(left<right):\n",
    "                sums = nums[i]+nums[left]+nums[right]\n",
    "                dist = abs(target-sums)\n",
    "                #print(min(abs(least),abs(sums)))\n",
    "                print(dist,i,left,right)\n",
    "                # if sum == target, return sum\n",
    "                if dist == 0 :\n",
    "                    return target\n",
    "                if min(abs(target-least),dist)==dist:\n",
    "                    least = sums #abs(sums) is distance to zero\n",
    "                if sums<target:\n",
    "                    left+=1\n",
    "                if sums>target:\n",
    "                    right-=1\n",
    "\n",
    "        return int(least)"
   ]
  },
  {
   "cell_type": "code",
   "execution_count": null,
   "metadata": {},
   "outputs": [
    {
     "name": "stdout",
     "output_type": "stream",
     "text": [
      "out exp\n",
      "[-5, -5, -4, 0, 0, 3, 3, 4, 5]\n",
      "3 0 1 8\n",
      "2 0 2 8\n",
      "2 0 3 8\n",
      "1 0 3 7\n",
      "0 0 3 6\n",
      "-2 -2\n"
     ]
    }
   ],
   "source": [
    "sol = Solution()\n",
    "ip1 = [-1,2,1,-4]\n",
    "ex1 = 2\n",
    "ip2 = [0,0,0]\n",
    "ex2 = 0\n",
    "ip3 = [0,0,0,1]\n",
    "ex3 = 1\n",
    "ip4 = [1000,1000,1000]\n",
    "ex4 = 3000\n",
    "ip5 = [1,1,1,0]\n",
    "ex5 = 2\n",
    "ip6 = [1,1,1,0]\n",
    "ex6 = 2\n",
    "ip7 = [-100,-98,-2,-1]\n",
    "ex7 = -101\n",
    "ip8 = [4,0,5,-5,3,3,0,-4,-5]\n",
    "ex8 = -2\n",
    "\n",
    "\n",
    "print('out','exp')\n",
    "print(sol.threeSumClosest(ip1,1), ex1)\n",
    "print(sol.threeSumClosest(ip2,1), ex2)\n",
    "print(sol.threeSumClosest(ip3,2), ex3)\n",
    "print(sol.threeSumClosest(ip4,10000), ex4)\n",
    "print(sol.threeSumClosest(ip5,-100), ex5)\n",
    "print(sol.threeSumClosest(ip6,1), ex6)\n",
    "print(sol.threeSumClosest(ip7,-101), ex7)\n",
    "print(sol.threeSumClosest(ip8,-2), ex8)"
   ]
  }
 ],
 "metadata": {
  "kernelspec": {
   "display_name": "cdcmy_ML_fund",
   "language": "python",
   "name": "python3"
  },
  "language_info": {
   "name": "python",
   "version": "3.9.15"
  },
  "orig_nbformat": 4,
  "vscode": {
   "interpreter": {
    "hash": "54acda0e4a8b02ad0d6527b366c3b6d96c2f93f4c42b5a0daff4543e008a537e"
   }
  }
 },
 "nbformat": 4,
 "nbformat_minor": 2
}
