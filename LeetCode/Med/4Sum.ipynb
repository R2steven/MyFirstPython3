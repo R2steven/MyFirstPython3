{
 "cells": [
  {
   "cell_type": "code",
   "execution_count": 7,
   "metadata": {},
   "outputs": [],
   "source": [
    "class Solution(object):\n",
    "\n",
    "    \n",
    "    def fourSum(self, nums, target):\n",
    "        \"\"\"\n",
    "        :type nums: List[int]\n",
    "        :type target: int\n",
    "        :rtype: List[List[int]]\n",
    "        \"\"\"\n",
    "        nums.sort()\n",
    "        fSum = []\n",
    "\n",
    "        n = len(nums)\n",
    "\n",
    "        for i in range(n-3):\n",
    "            if i>0 and nums[i]==nums[i-1]: \n",
    "                i+=1\n",
    "                continue\n",
    "            for j in range(i+1,n-2):\n",
    "                if j>i+1 and nums[j]==nums[j-1]: \n",
    "                    j+=1\n",
    "                    continue\n",
    "                newTarg = target-(nums[i]+nums[j])\n",
    "                for ans in self.twoPoint(nums[j+1:],newTarg):\n",
    "                    fSum.append([nums[i],nums[j],ans[0],ans[1]])\n",
    "                if 3*nums[j]>target-nums[i]:\n",
    "                    break\n",
    "            if 4*nums[i] > target:\n",
    "                return fSum\n",
    "        \n",
    "        return fSum\n",
    "            \n",
    "        \n",
    "\n",
    "\n",
    "    def twoPoint(self, nums, target):\n",
    "        \n",
    "        nums.sort()\n",
    "        n = len(nums)\n",
    "        i=0\n",
    "        j=n-1\n",
    "\n",
    "        fSum=[]\n",
    "\n",
    "        while (i<j):\n",
    "            if nums[i]+nums[j]==target:\n",
    "                fSum.append([nums[i],nums[j]])\n",
    "                i+=1\n",
    "                j-=1\n",
    "                while (i<j and nums[i]==nums[i-1]):\n",
    "                    i+=1\n",
    "                while (i<j and nums[j]==nums[j+1]):\n",
    "                    j-=1\n",
    "            elif nums[i]+nums[j]<target:\n",
    "                i+=1\n",
    "            else:\n",
    "                j-=1\n",
    "\n",
    "        return fSum\n"
   ]
  },
  {
   "cell_type": "code",
   "execution_count": 8,
   "metadata": {},
   "outputs": [
    {
     "name": "stdout",
     "output_type": "stream",
     "text": [
      "case: 1 \n",
      " {'nums': [-2, -1, 0, 0, 1, 2], 'target': 0, 'expected': [[-2, -1, 1, 2], [-2, 0, 0, 2], [-1, 0, 0, 1]]}\n",
      " Output: [[-2, -1, 1, 2], [-2, 0, 0, 2], [-1, 0, 0, 1]]\n",
      " diff = []\n",
      " length diff  = 0\n",
      "case: 2 \n",
      " {'nums': [2, 2, 2, 2, 2], 'target': 8, 'expected': [[2, 2, 2, 2]]}\n",
      " Output: [[2, 2, 2, 2]]\n",
      " diff = []\n",
      " length diff  = 0\n",
      "case: 3 \n",
      " {'nums': [-2, -1, -1, 1, 1, 2, 2], 'target': 0, 'expected': [[-2, -1, 1, 2], [-1, -1, 1, 1]]}\n",
      " Output: [[-2, -1, 1, 2], [-1, -1, 1, 1]]\n",
      " diff = []\n",
      " length diff  = 0\n",
      "case: 4 \n",
      " {'nums': [-8, -3, -2, -2, 0, 4, 4, 6, 6, 6, 8, 9, 9, 9, 10], 'target': 25, 'expected': [[-3, 9, 9, 10], [-2, 8, 9, 10], [-2, 9, 9, 9], [0, 6, 9, 10], [4, 4, 8, 9], [4, 6, 6, 9]]}\n",
      " Output: [[-3, 9, 9, 10], [-2, 8, 9, 10], [-2, 9, 9, 9], [0, 6, 9, 10], [4, 4, 8, 9], [4, 6, 6, 9]]\n",
      " diff = []\n",
      " length diff  = 0\n"
     ]
    }
   ],
   "source": [
    "fSum = Solution()\n",
    "test = {\n",
    "    1:{\"nums\":[1,0,-1,0,-2,2],\"target\":0,\"expected\":[[-2,-1,1,2],[-2,0,0,2],[-1,0,0,1]]},\n",
    "    2:{\"nums\":[2,2,2,2,2],\"target\":8,\"expected\":[[2,2,2,2]]},\n",
    "    3:{\"nums\":[-2,-1,-1,1,1,2,2],\"target\":0,\"expected\":[[-2,-1,1,2],[-1,-1,1,1]]},\n",
    "    4:{\"nums\":[9,6,4,9,8,-2,4,0,6,-2,-8,6,-3,9,10],\"target\":25,\"expected\":[[-3,9,9,10],[-2,8,9,10],[-2,9,9,9],[0,6,9,10],[4,4,8,9],[4,6,6,9]]}}\n",
    "\n",
    "for case in test:\n",
    "    expected = test[case]['expected']\n",
    "    output = fSum.fourSum(test[case]['nums'],test[case]['target'])\n",
    "    diff = [x for x in output if x not in expected]\n",
    "    Ldiff = len(output)-len(expected)\n",
    "    print(f'case: {case} \\n {test[case]}\\n Output: {output}\\n diff = {diff}\\n length diff  = {Ldiff}')\n"
   ]
  }
 ],
 "metadata": {
  "kernelspec": {
   "display_name": "cdcmy_ML_fund",
   "language": "python",
   "name": "python3"
  },
  "language_info": {
   "codemirror_mode": {
    "name": "ipython",
    "version": 3
   },
   "file_extension": ".py",
   "mimetype": "text/x-python",
   "name": "python",
   "nbconvert_exporter": "python",
   "pygments_lexer": "ipython3",
   "version": "3.9.15"
  },
  "orig_nbformat": 4,
  "vscode": {
   "interpreter": {
    "hash": "54acda0e4a8b02ad0d6527b366c3b6d96c2f93f4c42b5a0daff4543e008a537e"
   }
  }
 },
 "nbformat": 4,
 "nbformat_minor": 2
}
