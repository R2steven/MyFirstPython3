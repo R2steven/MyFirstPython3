{
 "cells": [
  {
   "cell_type": "code",
   "execution_count": 50,
   "metadata": {},
   "outputs": [],
   "source": [
    "class Solution(object):\n",
    "    def fourSum(self, nums, target):\n",
    "        \"\"\"\n",
    "        :type nums: List[int]\n",
    "        :type target: int\n",
    "        :rtype: List[List[int]]\n",
    "        \"\"\"\n",
    "        L = 5\n",
    "        nums.sort()\n",
    "        n = len(nums)\n",
    "            \n",
    "        \n",
    "\n",
    "\n",
    "    def twoPoint(self, nums, target):\n",
    "        \n",
    "        nums.sort()\n",
    "        n = len(nums)\n",
    "        i=0\n",
    "        j=n-1\n",
    "\n",
    "        fSum=[]\n",
    "\n",
    "        while (i<j):\n",
    "            if nums[i]+nums[j]==target:\n",
    "                fSum.append([nums[i],nums[j]])\n",
    "                i+=1\n",
    "                j-=1\n",
    "                while nums[i]==nums[i+1]:\n",
    "                    i+=1\n",
    "                while nums[j]==nums[j-1]:\n",
    "                    j-=1\n",
    "            elif nums[i]+nums[j]<target:\n",
    "                i+=1\n",
    "            else:\n",
    "                j-=1\n",
    "\n",
    "        return fSum\n"
   ]
  },
  {
   "cell_type": "code",
   "execution_count": 51,
   "metadata": {},
   "outputs": [
    {
     "name": "stdout",
     "output_type": "stream",
     "text": [
      "<class 'range'>\n"
     ]
    }
   ],
   "source": [
    "L = 5\n",
    "l, r = 0, L-1"
   ]
  }
 ],
 "metadata": {
  "kernelspec": {
   "display_name": "cdcmy_ML_fund",
   "language": "python",
   "name": "python3"
  },
  "language_info": {
   "codemirror_mode": {
    "name": "ipython",
    "version": 3
   },
   "file_extension": ".py",
   "mimetype": "text/x-python",
   "name": "python",
   "nbconvert_exporter": "python",
   "pygments_lexer": "ipython3",
   "version": "3.9.15 (main, Nov  4 2022, 16:35:55) [MSC v.1916 64 bit (AMD64)]"
  },
  "orig_nbformat": 4,
  "vscode": {
   "interpreter": {
    "hash": "54acda0e4a8b02ad0d6527b366c3b6d96c2f93f4c42b5a0daff4543e008a537e"
   }
  }
 },
 "nbformat": 4,
 "nbformat_minor": 2
}
