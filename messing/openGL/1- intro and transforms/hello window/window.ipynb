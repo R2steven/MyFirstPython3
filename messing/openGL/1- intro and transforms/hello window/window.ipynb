{
 "cells": [
  {
   "cell_type": "code",
   "execution_count": 7,
   "metadata": {},
   "outputs": [],
   "source": [
    "import pygame as pg\n",
    "from OpenGL.GL import *\n",
    "\n",
    "class App:\n",
    "\n",
    "\n",
    "    def __init__(self):\n",
    "        \"\"\" Initialise the program \"\"\"\n",
    "        #initialise pygame\n",
    "        pg.init()\n",
    "        pg.display.gl_set_attribute(pg.GL_CONTEXT_MAJOR_VERSION, 3)\n",
    "        pg.display.gl_set_attribute(pg.GL_CONTEXT_MINOR_VERSION, 3)\n",
    "        pg.display.gl_set_attribute(pg.GL_CONTEXT_PROFILE_MASK,\n",
    "                                    pg.GL_CONTEXT_PROFILE_CORE)\n",
    "        pg.display.set_mode((640,480), pg.OPENGL|pg.DOUBLEBUF)\n",
    "        self.clock = pg.time.Clock()\n",
    "        #initialise opengl\n",
    "        glClearColor(0.1, 0.8, 0.2, 1)\n",
    "        self.mainLoop()\n",
    "\n",
    "    def mainLoop(self):\n",
    "        \"\"\" Run the app \"\"\"\n",
    "\n",
    "        running = True\n",
    "        while (running):\n",
    "            #check events\n",
    "            for event in pg.event.get():\n",
    "                if (event.type == pg.QUIT):\n",
    "                    running = False\n",
    "            #refresh screen\n",
    "            glClear(GL_COLOR_BUFFER_BIT)\n",
    "            pg.display.flip()\n",
    "\n",
    "            #timing\n",
    "            self.clock.tick(60)\n",
    "        self.quit()\n",
    "\n",
    "    def quit(self):\n",
    "        \"\"\" cleanup the app, run exit code \"\"\"\n",
    "        pg.quit()\n",
    "\n",
    "if __name__ == \"__main__\":\n",
    "    myApp = App()"
   ]
  }
 ],
 "metadata": {
  "kernelspec": {
   "display_name": "pyopengl",
   "language": "python",
   "name": "python3"
  },
  "language_info": {
   "codemirror_mode": {
    "name": "ipython",
    "version": 3
   },
   "file_extension": ".py",
   "mimetype": "text/x-python",
   "name": "python",
   "nbconvert_exporter": "python",
   "pygments_lexer": "ipython3",
   "version": "3.9.10"
  },
  "orig_nbformat": 4
 },
 "nbformat": 4,
 "nbformat_minor": 2
}
