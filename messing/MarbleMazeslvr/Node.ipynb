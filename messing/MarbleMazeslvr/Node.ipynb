{
 "cells": [
  {
   "cell_type": "code",
   "execution_count": 35,
   "metadata": {},
   "outputs": [],
   "source": [
    "class Node():\n",
    "\n",
    "    def __init__(self, vertex=None, edges=None):\n",
    "        self.setVertex(vertex)\n",
    "        self.setEdges(edges)\n",
    "\n",
    "    #edges in dict form {inedges:{top:[],left:[],etc},outedges{top:[],left:[],etc}}\n",
    "\n",
    "    def setEdges(self, edges):\n",
    "        self.edges = edges\n",
    "    \n",
    "    def setVertex(self, vertex):\n",
    "        self.vertex = vertex\n",
    "\n",
    "    def addEdges(self, nedges):\n",
    "        self.edges.append(nedges)\n",
    "\n",
    "    def getCopy(self):\n",
    "        try: self.ECopy = self.edges.copy()\n",
    "        except: self.ECopy = []\n",
    "        self.VCopy = self.vertex[:]\n",
    "    \n",
    "    def rmEdge(self, edge):\n",
    "        try: self.ECopy.remove(edge)\n",
    "        except: pass\n",
    "\n",
    "\n",
    "    def dfs(self, target):\n",
    "        #print(self.vertex,target.vertex)\n",
    "        #print(self.vertex, 'edges', self.ECopy)\n",
    "        if self.vertex==target.vertex:\n",
    "            #print('path started!')\n",
    "            return [self]\n",
    "        \n",
    "        for edge in self.ECopy:\n",
    "            #print(self.vertex, 'edges of next', edge.ECopy)\n",
    "            edge.rmEdge(self)\n",
    "            #print(edge.ECopy)\n",
    "            path = edge.dfs(target)\n",
    "            #print(path)\n",
    "            if type(path) == list:\n",
    "                #print(self.vertex, 'adding paths',path)\n",
    "                path.append(self)\n",
    "                #print(path)\n",
    "                return path\n",
    "        #print(self.vertex, 'returned none')\n",
    "        return None"
   ]
  },
  {
   "cell_type": "code",
   "execution_count": 37,
   "metadata": {},
   "outputs": [
    {
     "name": "stdout",
     "output_type": "stream",
     "text": [
      "dfs path =  ['block7', 'block5', 'block3', 'block2', 'block1']\n"
     ]
    }
   ],
   "source": [
    "block1 = Node('block1')\n",
    "block2 = Node('block2')\n",
    "block3 = Node('block3')\n",
    "block4 = Node('block4')\n",
    "block5 = Node('block5')\n",
    "block6 = Node('block6')\n",
    "block7 = Node('block7')\n",
    "block1.setEdges([block2])\n",
    "block2.setEdges([block1,block3])\n",
    "block3.setEdges([block2,block4,block5])\n",
    "block5.setEdges([block6,block7])\n",
    "block1.getCopy()\n",
    "block2.getCopy()\n",
    "block3.getCopy()\n",
    "block4.getCopy()\n",
    "block5.getCopy()\n",
    "block6.getCopy()\n",
    "block7.getCopy()\n",
    "\n",
    "\n",
    "\n",
    "\n",
    "print('dfs path = ',[edge.vertex for edge in block1.dfs(target=block7)])"
   ]
  }
 ],
 "metadata": {
  "kernelspec": {
   "display_name": "Python 3.9.15 ('cdcmy_ML_fund')",
   "language": "python",
   "name": "python3"
  },
  "language_info": {
   "codemirror_mode": {
    "name": "ipython",
    "version": 3
   },
   "file_extension": ".py",
   "mimetype": "text/x-python",
   "name": "python",
   "nbconvert_exporter": "python",
   "pygments_lexer": "ipython3",
   "version": "3.9.15"
  },
  "orig_nbformat": 4,
  "vscode": {
   "interpreter": {
    "hash": "54acda0e4a8b02ad0d6527b366c3b6d96c2f93f4c42b5a0daff4543e008a537e"
   }
  }
 },
 "nbformat": 4,
 "nbformat_minor": 2
}
