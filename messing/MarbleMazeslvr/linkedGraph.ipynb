{
 "cells": [
  {
   "cell_type": "code",
   "execution_count": 11,
   "metadata": {},
   "outputs": [],
   "source": [
    "class LGraph():\n",
    "\n",
    "    # graph of form: graph = dict{v1:[*e1],v2:[*e2],...vn:[*en]}\n",
    "    # initialize all vertex,edge pairs in the above form\n",
    "    def __init__(self, vertex, edges = [], subgraph = [], supG = None):\n",
    "        self._vertex = vertex\n",
    "        self._edges = edges\n",
    "        self._subGraph = subgraph\n",
    "        self._supG = supG\n",
    "    \n",
    "    #Initialize Stack of nodes\n",
    "    def __init__(self,nodes = list):\n",
    "        for node in nodes:\n",
    "            self._subGraph.append(LGraph(vertex = node))\n",
    "\n",
    "    #initialize Graph\n",
    "    def __init__(self, name = 'main', graph = dict):\n",
    "        self._vertex = name\n",
    "        self.__init__(self.get_uniq(graph))\n",
    "        self.setEdges(graph)\n",
    "\n",
    "    #returns unique items from a dict\n",
    "    def get_uniq(self,graph = dict):\n",
    "        stack = []\n",
    "        for k,v in graph.items():\n",
    "            if k not in stack:\n",
    "                stack.append(k)\n",
    "            for x in v:\n",
    "                if x not in stack:\n",
    "                    stack.append(x)\n",
    "        return stack\n",
    "    \n",
    "    def equals(self,node):\n",
    "        if type(node)==LGraph:\n",
    "            return(self._vertex==node._vertex)\n",
    "        return(self._vertex==node)\n",
    "\n",
    "    def find(self, target):\n",
    "        for node in self._subGraph:\n",
    "            if node.equals(target):\n",
    "                return node\n",
    "\n",
    "    def setEdges(self,graph):\n",
    "        for vertex,edges in graph:\n",
    "            node = self.find(vertex)\n",
    "            for edge in edges:\n",
    "                e = self.find(edge)\n",
    "                node._edges.append(e)\n"
   ]
  },
  {
   "cell_type": "code",
   "execution_count": 12,
   "metadata": {},
   "outputs": [
    {
     "ename": "TypeError",
     "evalue": "unbound method dict.items() needs an argument",
     "output_type": "error",
     "traceback": [
      "\u001b[1;31m---------------------------------------------------------------------------\u001b[0m",
      "\u001b[1;31mTypeError\u001b[0m                                 Traceback (most recent call last)",
      "Cell \u001b[1;32mIn [12], line 3\u001b[0m\n\u001b[0;32m      1\u001b[0m graph \u001b[39m=\u001b[39m {\u001b[39m1\u001b[39m:[\u001b[39m2\u001b[39m,\u001b[39m3\u001b[39m,\u001b[39m4\u001b[39m],\u001b[39m2\u001b[39m:[\u001b[39m1\u001b[39m,\u001b[39m3\u001b[39m],\u001b[39m3\u001b[39m:[\u001b[39m4\u001b[39m]}\n\u001b[1;32m----> 3\u001b[0m ngraph \u001b[39m=\u001b[39m LGraph(graph\u001b[39m=\u001b[39;49mgraph)\n",
      "Cell \u001b[1;32mIn [11], line 19\u001b[0m, in \u001b[0;36mLGraph.__init__\u001b[1;34m(self, name, graph)\u001b[0m\n\u001b[0;32m     17\u001b[0m \u001b[39mdef\u001b[39;00m \u001b[39m__init__\u001b[39m(\u001b[39mself\u001b[39m, name \u001b[39m=\u001b[39m \u001b[39m'\u001b[39m\u001b[39mmain\u001b[39m\u001b[39m'\u001b[39m, graph \u001b[39m=\u001b[39m \u001b[39mdict\u001b[39m):\n\u001b[0;32m     18\u001b[0m     \u001b[39mself\u001b[39m\u001b[39m.\u001b[39m_vertex \u001b[39m=\u001b[39m name\n\u001b[1;32m---> 19\u001b[0m     \u001b[39mself\u001b[39;49m\u001b[39m.\u001b[39;49m\u001b[39m__init__\u001b[39;49m(\u001b[39mself\u001b[39;49m\u001b[39m.\u001b[39;49mget_uniq(graph))\n\u001b[0;32m     20\u001b[0m     \u001b[39mself\u001b[39m\u001b[39m.\u001b[39msetEdges(graph)\n",
      "Cell \u001b[1;32mIn [11], line 19\u001b[0m, in \u001b[0;36mLGraph.__init__\u001b[1;34m(self, name, graph)\u001b[0m\n\u001b[0;32m     17\u001b[0m \u001b[39mdef\u001b[39;00m \u001b[39m__init__\u001b[39m(\u001b[39mself\u001b[39m, name \u001b[39m=\u001b[39m \u001b[39m'\u001b[39m\u001b[39mmain\u001b[39m\u001b[39m'\u001b[39m, graph \u001b[39m=\u001b[39m \u001b[39mdict\u001b[39m):\n\u001b[0;32m     18\u001b[0m     \u001b[39mself\u001b[39m\u001b[39m.\u001b[39m_vertex \u001b[39m=\u001b[39m name\n\u001b[1;32m---> 19\u001b[0m     \u001b[39mself\u001b[39m\u001b[39m.\u001b[39m\u001b[39m__init__\u001b[39m(\u001b[39mself\u001b[39;49m\u001b[39m.\u001b[39;49mget_uniq(graph))\n\u001b[0;32m     20\u001b[0m     \u001b[39mself\u001b[39m\u001b[39m.\u001b[39msetEdges(graph)\n",
      "Cell \u001b[1;32mIn [11], line 25\u001b[0m, in \u001b[0;36mLGraph.get_uniq\u001b[1;34m(self, graph)\u001b[0m\n\u001b[0;32m     23\u001b[0m \u001b[39mdef\u001b[39;00m \u001b[39mget_uniq\u001b[39m(\u001b[39mself\u001b[39m,graph \u001b[39m=\u001b[39m \u001b[39mdict\u001b[39m):\n\u001b[0;32m     24\u001b[0m     stack \u001b[39m=\u001b[39m []\n\u001b[1;32m---> 25\u001b[0m     \u001b[39mfor\u001b[39;00m k,v \u001b[39min\u001b[39;00m graph\u001b[39m.\u001b[39;49mitems():\n\u001b[0;32m     26\u001b[0m         \u001b[39mif\u001b[39;00m k \u001b[39mnot\u001b[39;00m \u001b[39min\u001b[39;00m stack:\n\u001b[0;32m     27\u001b[0m             stack\u001b[39m.\u001b[39mappend(k)\n",
      "\u001b[1;31mTypeError\u001b[0m: unbound method dict.items() needs an argument"
     ]
    }
   ],
   "source": [
    "graph = {1:[2,3,4],2:[1,3],3:[4]}\n",
    "\n",
    "ngraph = LGraph(graph=graph)"
   ]
  }
 ],
 "metadata": {
  "kernelspec": {
   "display_name": "Python 3.9.15 ('cdcmy_ML_fund')",
   "language": "python",
   "name": "python3"
  },
  "language_info": {
   "codemirror_mode": {
    "name": "ipython",
    "version": 3
   },
   "file_extension": ".py",
   "mimetype": "text/x-python",
   "name": "python",
   "nbconvert_exporter": "python",
   "pygments_lexer": "ipython3",
   "version": "3.9.15 (main, Nov  4 2022, 16:35:55) [MSC v.1916 64 bit (AMD64)]"
  },
  "orig_nbformat": 4,
  "vscode": {
   "interpreter": {
    "hash": "54acda0e4a8b02ad0d6527b366c3b6d96c2f93f4c42b5a0daff4543e008a537e"
   }
  }
 },
 "nbformat": 4,
 "nbformat_minor": 2
}
